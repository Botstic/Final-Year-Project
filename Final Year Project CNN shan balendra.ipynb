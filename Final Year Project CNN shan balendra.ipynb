{
 "cells": [
  {
   "cell_type": "markdown",
   "id": "3a904055-9d91-4fd1-9f24-44d9644b1aa0",
   "metadata": {},
   "source": [
    "Final Year Project Shan Balendra"
   ]
  },
  {
   "cell_type": "markdown",
   "id": "cd335da6-853e-46eb-86b6-3f4b278a3b31",
   "metadata": {},
   "source": [
    "This is the first Convolutional Neural Network(CNN). \n",
    "The code is made to run locally on an NVIDIA GPU using CUDA.\n",
    "The dataset input can be changed by modifying the line: \"dataset = NetworkTrafficDataset(data_folder='C:\\\\Users\\\\ShanB\\\\Documents\\\\Final Year Project Files')\"\n",
    "To run this code please extract the entire zip folder and change the directory path below to the path for the folder.\n",
    "\n",
    "This code was run on a machine running CUDA 12.1, PyTorch 2.3.0, python 3.12. On windows 10."
   ]
  },
  {
   "cell_type": "markdown",
   "id": "1bcc204f-1836-4cd4-8067-8853bf0a5e8b",
   "metadata": {},
   "source": [
    "Import the neccessary modules"
   ]
  },
  {
   "cell_type": "code",
   "execution_count": 108,
   "id": "b6b3dcd6-e619-4d7a-b405-b4218ef42fa7",
   "metadata": {},
   "outputs": [],
   "source": [
    "import os\n",
    "import pandas as pd\n",
    "import numpy as np\n",
    "import torch\n",
    "import torch.nn as nn\n",
    "import torch.optim as optim\n",
    "from sklearn.preprocessing import StandardScaler, LabelEncoder\n",
    "from sklearn.model_selection import train_test_split\n",
    "from torch.utils.data import DataLoader, TensorDataset\n",
    "import matplotlib.pyplot as plt\n",
    "import torch.cuda"
   ]
  },
  {
   "cell_type": "markdown",
   "id": "344ff7a1-d0fd-4f94-82cc-5df0443e01d9",
   "metadata": {},
   "source": [
    "load data -csv file folder"
   ]
  },
  {
   "cell_type": "code",
   "execution_count": 109,
   "id": "4bc385a7-a8ce-4ba1-9cd5-bf79090668b5",
   "metadata": {},
   "outputs": [],
   "source": [
    "# Directory containing all CSV files\n",
    "directory_path = 'C:/Users/ShanB/Documents/Final Year Project Files/'\n",
    "\n",
    "# List all CSV files\n",
    "files = [os.path.join(directory_path, file) for file in os.listdir(directory_path) if file.endswith('.csv')]\n",
    "\n",
    "# Load and concatenate all CSV files into a single DataFrame\n",
    "data = pd.concat([pd.read_csv(file) for file in files], ignore_index=True)\n"
   ]
  },
  {
   "cell_type": "markdown",
   "id": "fa498827-b02b-4b90-84d9-3bf0780c9214",
   "metadata": {},
   "source": [
    "Data Preparation- had a lot of issues sanitising the data as it had a few missing and infinite values, the code below should fix it.\n",
    "\n",
    "issues faced: we need to preserve first data integrity (anomalies in the data traffic could represent important security events) and we also cannot mislead the model(Using mean or median imputation might create artificial patterns that do not exist in the true data distribution).\n"
   ]
  },
  {
   "cell_type": "code",
   "execution_count": 110,
   "id": "f8bba0b4-d0e9-4116-85b7-09987d64128b",
   "metadata": {},
   "outputs": [],
   "source": [
    "#Fixed data format errors-\n",
    "# Remove leading and trailing whitespaces in column names\n",
    "data.columns = data.columns.str.strip()\n",
    "\n",
    "# Handle missing and infinite values\n",
    "data.replace([np.inf, -np.inf], np.nan, inplace=True)\n",
    "data.dropna(inplace=True)  # Dropping rows with NaN values from infinite values\n"
   ]
  },
  {
   "cell_type": "markdown",
   "id": "0029d6cd-ebf9-43f4-ab90-f9aaead3065a",
   "metadata": {},
   "source": [
    "Define the CNN Model and the classifier"
   ]
  },
  {
   "cell_type": "code",
   "execution_count": 111,
   "id": "176b947e-21f6-4369-bc74-29aa70b57024",
   "metadata": {},
   "outputs": [],
   "source": [
    "class CNN(nn.Module):\n",
    "    def __init__(self, num_classes):\n",
    "        super(CNN, self).__init__()\n",
    "        self.layer1 = nn.Sequential(\n",
    "            nn.Conv1d(1, 16, kernel_size=5, stride=1, padding=2),\n",
    "            nn.ReLU(),\n",
    "            nn.MaxPool1d(kernel_size=2))\n",
    "        self.layer2 = nn.Sequential(\n",
    "            nn.Conv1d(16, 32, kernel_size=5, stride=1, padding=2),\n",
    "            nn.ReLU(),\n",
    "            nn.MaxPool1d(kernel_size=2))\n",
    "        self.drop_out = nn.Dropout()\n",
    "        self.fc1 = nn.Linear(32 * 19, 1000)  # Adjust according to your final flattened size\n",
    "        self.fc2 = nn.Linear(1000, num_classes)\n",
    "\n",
    "    def forward(self, x):\n",
    "        x = self.layer1(x)\n",
    "        x = self.layer2(x)\n",
    "        x = x.reshape(x.size(0), -1)  # Flatten the output for the dense layer\n",
    "        x = self.drop_out(x)\n",
    "        x = self.fc1(x)\n",
    "        x = self.fc2(x)\n",
    "        return x"
   ]
  },
  {
   "cell_type": "markdown",
   "id": "9ac50f09-1248-428a-b75a-4dc48d0422fc",
   "metadata": {},
   "source": [
    "add GPU support"
   ]
  },
  {
   "cell_type": "code",
   "execution_count": 116,
   "id": "5d4eb9fe-5f4e-4f44-82dd-519fbbb09ec6",
   "metadata": {},
   "outputs": [],
   "source": [
    "# Check if CUDA is available and set device accordingly\n",
    "# Move model to GPU if CUDA is available\n",
    "device = torch.device(\"cuda:0\" if torch.cuda.is_available() else \"cpu\")\n",
    "model.to(device)\n",
    "\n",
    "# Move the model and data tensors to the GPU device\n",
    "model = CNN(num_classes).to(device)\n",
    "X_train, X_test = X_train.to(device), X_test.to(device)\n",
    "y_train, y_test = y_train.to(device), y_test.to(device)"
   ]
  },
  {
   "cell_type": "markdown",
   "id": "273416ed-6dd8-4249-bbd6-15574d5cc3ed",
   "metadata": {},
   "source": [
    "Prepare the data by adding categorical labels, separating features and labels, and then standardizing the features to ensure they are on a similar scale. -improves performance"
   ]
  },
  {
   "cell_type": "code",
   "execution_count": 117,
   "id": "0642e893-2696-4a9b-905f-98ee7ba0c2ad",
   "metadata": {},
   "outputs": [],
   "source": [
    "# Encode categorical labels\n",
    "label_encoder = LabelEncoder()\n",
    "labels = label_encoder.fit_transform(data['Label'])\n",
    "num_classes = len(np.unique(labels))  # Determine the number of unique labels\n",
    "\n",
    "# Prepare feature matrix\n",
    "X = data.drop('Label', axis=1)\n",
    "y = labels\n",
    "\n",
    "# Normalize features to improve model training efficiency\n",
    "scaler = StandardScaler()\n",
    "X_scaled = scaler.fit_transform(X)"
   ]
  },
  {
   "cell_type": "code",
   "execution_count": 118,
   "id": "4a34f910-035c-4ffa-9f0d-e8293588f093",
   "metadata": {},
   "outputs": [
    {
     "name": "stdout",
     "output_type": "stream",
     "text": [
      "Unique labels in the dataset: [ 0  1  2  3  4  5  6  7  8  9 10 11 12 13 14]\n"
     ]
    }
   ],
   "source": [
    "#DEBUGGING\n",
    "unique_labels = np.unique(labels)\n",
    "print(\"Unique labels in the dataset:\", unique_labels)\n"
   ]
  },
  {
   "cell_type": "markdown",
   "id": "e8032347-afec-43a1-9f1c-53ed679991e9",
   "metadata": {},
   "source": [
    "Set up the data loaders"
   ]
  },
  {
   "cell_type": "code",
   "execution_count": 119,
   "id": "631c1134-8b6f-4005-ba61-3f894b8de241",
   "metadata": {},
   "outputs": [],
   "source": [
    "# Split data into training and testing sets\n",
    "X_train, X_test, y_train, y_test = train_test_split(X_scaled, y, test_size=0.3, random_state=42)\n",
    "\n",
    "# Convert the arrays to PyTorch tensors\n",
    "X_train = torch.tensor(X_train, dtype=torch.float32)\n",
    "X_test = torch.tensor(X_test, dtype=torch.float32)\n",
    "y_train = torch.tensor(y_train, dtype=torch.long)\n",
    "y_test = torch.tensor(y_test, dtype=torch.long)\n",
    "\n",
    "# Create dataset and DataLoader\n",
    "train_dataset = TensorDataset(X_train, y_train)\n",
    "test_dataset = TensorDataset(X_test, y_test)\n",
    "train_loader = DataLoader(train_dataset, batch_size=64, shuffle=True)\n",
    "test_loader = DataLoader(test_dataset, batch_size=64, shuffle=False)"
   ]
  },
  {
   "cell_type": "markdown",
   "id": "f61d7e3b-a36c-44e3-a3de-a9215aaa386c",
   "metadata": {},
   "source": [
    "Instantiate the CNN model, loss function, and optimizer"
   ]
  },
  {
   "cell_type": "code",
   "execution_count": 120,
   "id": "71eda39c-f846-47b6-8fc6-6bdc6627cde3",
   "metadata": {},
   "outputs": [],
   "source": [
    "#num_classes = len(np.unique(labels))  # fixes an out of bounds error changed labels array\n",
    "model = CNN(num_classes).to(device)\n",
    "criterion = nn.CrossEntropyLoss()\n",
    "optimizer = optim.Adam(model.parameters(), lr=0.001)"
   ]
  },
  {
   "cell_type": "markdown",
   "id": "9fb9266d-9fc0-4803-8b32-90a7f0324fc9",
   "metadata": {},
   "source": [
    "Training loop"
   ]
  },
  {
   "cell_type": "code",
   "execution_count": 122,
   "id": "bce49d02-cd41-4543-a4fe-cf316ef1ad49",
   "metadata": {},
   "outputs": [
    {
     "name": "stdout",
     "output_type": "stream",
     "text": [
      "Epoch 1/20.. Train loss: 0.056.. Test loss: 0.043.. Test accuracy: 0.984\n",
      "Epoch 2/20.. Train loss: 0.054.. Test loss: 0.042.. Test accuracy: 0.984\n",
      "Epoch 3/20.. Train loss: 0.050.. Test loss: 0.039.. Test accuracy: 0.985\n",
      "Epoch 4/20.. Train loss: 0.049.. Test loss: 0.039.. Test accuracy: 0.986\n",
      "Epoch 5/20.. Train loss: 0.049.. Test loss: 0.039.. Test accuracy: 0.986\n",
      "Epoch 6/20.. Train loss: 0.048.. Test loss: 0.041.. Test accuracy: 0.984\n",
      "Epoch 7/20.. Train loss: 0.048.. Test loss: 0.038.. Test accuracy: 0.985\n",
      "Epoch 8/20.. Train loss: 0.049.. Test loss: 0.040.. Test accuracy: 0.984\n",
      "Epoch 9/20.. Train loss: 0.048.. Test loss: 0.036.. Test accuracy: 0.985\n",
      "Epoch 10/20.. Train loss: 0.048.. Test loss: 0.037.. Test accuracy: 0.986\n",
      "Epoch 11/20.. Train loss: 0.047.. Test loss: 0.041.. Test accuracy: 0.985\n",
      "Epoch 12/20.. Train loss: 0.047.. Test loss: 0.038.. Test accuracy: 0.985\n",
      "Epoch 13/20.. Train loss: 0.046.. Test loss: 0.040.. Test accuracy: 0.984\n",
      "Epoch 14/20.. Train loss: 0.046.. Test loss: 0.036.. Test accuracy: 0.986\n",
      "Epoch 15/20.. Train loss: 0.046.. Test loss: 0.038.. Test accuracy: 0.984\n",
      "Epoch 16/20.. Train loss: 0.047.. Test loss: 0.038.. Test accuracy: 0.986\n",
      "Epoch 17/20.. Train loss: 0.045.. Test loss: 0.038.. Test accuracy: 0.983\n",
      "Epoch 18/20.. Train loss: 0.046.. Test loss: 0.037.. Test accuracy: 0.985\n",
      "Epoch 19/20.. Train loss: 0.046.. Test loss: 0.036.. Test accuracy: 0.986\n",
      "Epoch 20/20.. Train loss: 0.045.. Test loss: 0.037.. Test accuracy: 0.986\n"
     ]
    }
   ],
   "source": [
    "def train_model(num_epochs, model, loaders):\n",
    "    train_losses, test_losses = [], []\n",
    "    for epoch in range(num_epochs):\n",
    "        model.train()\n",
    "        running_loss = 0.0\n",
    "        for inputs, labels in loaders['train']:\n",
    "            inputs, labels = inputs.to(device), labels.to(device)  # Move inputs and labels to the same device as model\n",
    "            inputs = inputs.unsqueeze(1)  # Add a channel dimension\n",
    "            optimizer.zero_grad()\n",
    "            outputs = model(inputs)\n",
    "            loss = criterion(outputs, labels)\n",
    "            loss.backward()\n",
    "            optimizer.step()\n",
    "            running_loss += loss.item()\n",
    "        else:\n",
    "            test_loss = 0.0\n",
    "            accuracy = 0\n",
    "            with torch.no_grad():\n",
    "                model.eval()\n",
    "                for inputs, labels in loaders['test']:\n",
    "                    inputs, labels = inputs.to(device), labels.to(device)  # Move inputs and labels to the same device as model\n",
    "                    inputs = inputs.unsqueeze(1)\n",
    "                    outputs = model(inputs)\n",
    "                    loss = criterion(outputs, labels)\n",
    "                    test_loss += loss.item()\n",
    "\n",
    "                    # Calculate probabilities and accuracy\n",
    "                    _, top_class = outputs.max(1)\n",
    "                    equals = top_class == labels\n",
    "                    accuracy += torch.mean(equals.type(torch.float)).item()\n",
    "\n",
    "            train_losses.append(running_loss / len(loaders['train']))\n",
    "            test_losses.append(test_loss / len(loaders['test']))\n",
    "\n",
    "            print(f\"Epoch {epoch + 1}/{num_epochs}.. \"\n",
    "                  f\"Train loss: {running_loss / len(loaders['train']):.3f}.. \"\n",
    "                  f\"Test loss: {test_loss / len(loaders['test']):.3f}.. \"\n",
    "                  f\"Test accuracy: {accuracy / len(loaders['test']):.3f}\")\n",
    "\n",
    "\n",
    "# Train the model\n",
    "train_model(20, model, {'train': train_loader, 'test': test_loader}) #CHANGE NUMBER OF EPOCHS HERE, current value '5' at 99.4 test accuracy.\n"
   ]
  },
  {
   "cell_type": "markdown",
   "id": "60139b50-2045-4fa1-b4b5-a67e42d896d0",
   "metadata": {},
   "source": [
    "Plotting the training and validation for loss curves"
   ]
  },
  {
   "cell_type": "code",
   "execution_count": 123,
   "id": "d580e09a-2282-4a52-b645-2887fcd65d37",
   "metadata": {},
   "outputs": [
    {
     "data": {
      "image/png": "[encoded data removed]",
      "text/plain": [
       "<Figure size 1000x400 with 1 Axes>"
      ]
     },
     "metadata": {},
     "output_type": "display_data"
    }
   ],
   "source": [
    "# Plot training and validation loss curves\n",
    "plt.figure(figsize=(10,4))\n",
    "plt.subplot(1, 2, 1)\n",
    "plt.plot(train_losses, label='Training loss')\n",
    "plt.plot(test_losses, label='Validation loss')\n",
    "plt.title('Training and Validation Loss')\n",
    "plt.xlabel('Epochs')\n",
    "plt.ylabel('Loss')\n",
    "plt.legend()\n",
    "plt.show()"
   ]
  },
  {
   "cell_type": "code",
   "execution_count": null,
   "id": "d6e87a31-ea29-47cc-b46e-85e4cc13841f",
   "metadata": {},
   "outputs": [],
   "source": []
  },
  {
   "cell_type": "code",
   "execution_count": null,
   "id": "e531f15d-88a7-4797-9143-ab0b9ac40915",
   "metadata": {},
   "outputs": [],
   "source": []
  }
 ],
 "metadata": {
  "kernelspec": {
   "display_name": "Python 3 (ipykernel)",
   "language": "python",
   "name": "python3"
  },
  "language_info": {
   "codemirror_mode": {
    "name": "ipython",
    "version": 3
   },
   "file_extension": ".py",
   "mimetype": "text/x-python",
   "name": "python",
   "nbconvert_exporter": "python",
   "pygments_lexer": "ipython3",
   "version": "3.12.2"
  }
 },
 "nbformat": 4,
 "nbformat_minor": 5
}
